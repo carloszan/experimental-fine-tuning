{
 "cells": [
  {
   "cell_type": "code",
   "execution_count": 1,
   "metadata": {},
   "outputs": [
    {
     "name": "stderr",
     "output_type": "stream",
     "text": [
      "/home/carlos/Documents/git/fine-tunning-tutorial/.env/lib/python3.11/site-packages/tqdm/auto.py:21: TqdmWarning: IProgress not found. Please update jupyter and ipywidgets. See https://ipywidgets.readthedocs.io/en/stable/user_install.html\n",
      "  from .autonotebook import tqdm as notebook_tqdm\n"
     ]
    }
   ],
   "source": [
    "from datasets import load_dataset, Dataset, DatasetDict \n",
    "from transformers import AutoTokenizer, DataCollatorWithPadding\n",
    "import pandas as pd\n",
    "\n",
    "dataset = load_dataset('sentiment140')\n",
    "dictionary = {}\n",
    "mapping_dict = {0:0, 2: 1, 4: 2}\n",
    "\n",
    "test_dataset = dataset[\"test\"].to_pandas()\n",
    "train_negative_df = test_dataset.query(\"sentiment == 0\")[:50]\n",
    "train_neutral_df  = test_dataset.query(\"sentiment == 2\")[:50]\n",
    "train_positive_df = test_dataset.query(\"sentiment == 4\")[:50]\n",
    "\n",
    "dictionary[\"train\"] = pd.concat([train_negative_df, train_neutral_df, train_positive_df])\n",
    "\n",
    "dictionary[\"train\"][\"sentiment\"] = dictionary[\"train\"][\"sentiment\"].map(mapping_dict)\n",
    "\n",
    "validation_dataset = dataset[\"test\"].to_pandas()\n",
    "validation_negative_df = validation_dataset.query(\"sentiment == 0\")[50:100]\n",
    "validation_neutral_df  = validation_dataset.query(\"sentiment == 2\")[50:100]\n",
    "validation_positive_df = validation_dataset.query(\"sentiment == 4\")[50:100]\n",
    "\n",
    "dictionary[\"validation\"] = pd.concat([validation_negative_df, validation_neutral_df, validation_positive_df])\n",
    "\n",
    "dictionary[\"validation\"][\"sentiment\"] = dictionary[\"validation\"][\"sentiment\"].map(mapping_dict)\n",
    "\n",
    "train_dataset = Dataset.from_dict(dictionary[\"train\"])\n",
    "validation_dataset = Dataset.from_dict(dictionary[\"validation\"])\n",
    "dataset = DatasetDict({\"train\":train_dataset, \"validation\":validation_dataset})"
   ]
  },
  {
   "cell_type": "code",
   "execution_count": 2,
   "metadata": {},
   "outputs": [
    {
     "name": "stderr",
     "output_type": "stream",
     "text": [
      "Map: 100%|██████████| 150/150 [00:00<00:00, 21647.65 examples/s]\n",
      "Map: 100%|██████████| 150/150 [00:00<00:00, 26806.37 examples/s]\n"
     ]
    }
   ],
   "source": [
    "checkpoint = \"bert-base-uncased\"\n",
    "tokenizer = AutoTokenizer.from_pretrained(checkpoint)\n",
    "\n",
    "def tokenize_function(example):\n",
    "    return tokenizer(example[\"text\"], padding=True)\n",
    "\n",
    "tokenized_datasets = dataset.map(tokenize_function, batched=True)\n",
    "data_collator = DataCollatorWithPadding(tokenizer=tokenizer)\n",
    "\n",
    "tokenized_datasets = tokenized_datasets.rename_column(\"sentiment\", \"label\")"
   ]
  },
  {
   "cell_type": "code",
   "execution_count": 3,
   "metadata": {},
   "outputs": [],
   "source": [
    "from transformers import TrainingArguments\n",
    "\n",
    "output_dir = \"./output\"\n",
    "training_args = TrainingArguments(\n",
    "  output_dir=output_dir,\n",
    "  num_train_epochs=3,  # Number of training epochs\n",
    "  per_device_train_batch_size=8,  # Batch size per GPU\n",
    "  per_device_eval_batch_size=8,   # Batch size for evaluation per GPU\n",
    "  warmup_steps=400,   # Number of warmup steps for learning rate scheduler\n",
    "  weight_decay=0.01,   # Strength of weight decay\n",
    "  logging_dir=\"./logs\",   # Directory for storing logs\n",
    "  logging_steps=100,   # Log every N steps\n",
    "  evaluation_strategy=\"steps\",   # Evaluation strategy during training\n",
    "  eval_steps=200,   # Run evaluation every N steps\n",
    "  save_total_limit=2,   # Only save the last N checkpoints\n",
    "  save_steps=200,   # Save checkpoint every N steps\n",
    "  load_best_model_at_end=True,   # Load the best model at the end of training\n",
    "  metric_for_best_model=\"accuracy\",   # Metric to use for the best model\n",
    ")\n"
   ]
  },
  {
   "cell_type": "code",
   "execution_count": 4,
   "metadata": {},
   "outputs": [
    {
     "name": "stderr",
     "output_type": "stream",
     "text": [
      "Some weights of BertForSequenceClassification were not initialized from the model checkpoint at bert-base-uncased and are newly initialized: ['classifier.weight', 'classifier.bias']\n",
      "You should probably TRAIN this model on a down-stream task to be able to use it for predictions and inference.\n"
     ]
    }
   ],
   "source": [
    "from transformers import AutoModelForSequenceClassification\n",
    "model = AutoModelForSequenceClassification.from_pretrained(\"bert-base-uncased\", num_labels=3)"
   ]
  },
  {
   "cell_type": "code",
   "execution_count": 5,
   "metadata": {},
   "outputs": [],
   "source": [
    "from transformers import Trainer\n",
    "import numpy as np\n",
    "import evaluate\n",
    "\n",
    "metric = evaluate.load(\"accuracy\")\n",
    "\n",
    "def compute_metrics(eval_pred):\n",
    "    logits, labels = eval_pred\n",
    "    predictions = np.argmax(logits, axis=-1)\n",
    "    return metric.compute(predictions=predictions, references=labels)\n",
    "\n",
    "trainer = Trainer(\n",
    "    model,\n",
    "    training_args,\n",
    "    train_dataset=tokenized_datasets[\"train\"],\n",
    "    eval_dataset=tokenized_datasets[\"validation\"],\n",
    "    data_collator=data_collator,\n",
    "    tokenizer=tokenizer,\n",
    "    compute_metrics=compute_metrics,\n",
    ")"
   ]
  },
  {
   "cell_type": "code",
   "execution_count": 6,
   "metadata": {},
   "outputs": [
    {
     "name": "stderr",
     "output_type": "stream",
     "text": [
      "  0%|          | 0/57 [00:00<?, ?it/s]You're using a BertTokenizerFast tokenizer. Please note that with a fast tokenizer, using the `__call__` method is faster than using a method to encode the text followed by a call to the `pad` method to get a padded encoding.\n",
      "100%|██████████| 57/57 [00:05<00:00, 10.60it/s]"
     ]
    },
    {
     "name": "stdout",
     "output_type": "stream",
     "text": [
      "{'train_runtime': 5.3767, 'train_samples_per_second': 83.695, 'train_steps_per_second': 10.601, 'train_loss': 1.0769747014631306, 'epoch': 3.0}\n"
     ]
    },
    {
     "name": "stderr",
     "output_type": "stream",
     "text": [
      "\n"
     ]
    },
    {
     "data": {
      "text/plain": [
       "TrainOutput(global_step=57, training_loss=1.0769747014631306, metrics={'train_runtime': 5.3767, 'train_samples_per_second': 83.695, 'train_steps_per_second': 10.601, 'train_loss': 1.0769747014631306, 'epoch': 3.0})"
      ]
     },
     "execution_count": 6,
     "metadata": {},
     "output_type": "execute_result"
    }
   ],
   "source": [
    "trainer.train()"
   ]
  },
  {
   "cell_type": "code",
   "execution_count": 7,
   "metadata": {},
   "outputs": [
    {
     "name": "stderr",
     "output_type": "stream",
     "text": [
      "  0%|          | 0/19 [00:00<?, ?it/s]"
     ]
    },
    {
     "name": "stderr",
     "output_type": "stream",
     "text": [
      "100%|██████████| 19/19 [00:00<00:00, 59.16it/s]"
     ]
    },
    {
     "name": "stdout",
     "output_type": "stream",
     "text": [
      "(150, 3) (150,)\n"
     ]
    },
    {
     "name": "stderr",
     "output_type": "stream",
     "text": [
      "\n"
     ]
    }
   ],
   "source": [
    "predictions = trainer.predict(tokenized_datasets[\"validation\"])\n",
    "print(predictions.predictions.shape, predictions.label_ids.shape)"
   ]
  },
  {
   "cell_type": "code",
   "execution_count": 8,
   "metadata": {},
   "outputs": [
    {
     "name": "stderr",
     "output_type": "stream",
     "text": [
      "100%|██████████| 19/19 [00:00<00:00, 60.45it/s]\n"
     ]
    },
    {
     "data": {
      "text/plain": [
       "{'eval_loss': 0.998936653137207,\n",
       " 'eval_accuracy': 0.5266666666666666,\n",
       " 'eval_runtime': 0.3437,\n",
       " 'eval_samples_per_second': 436.43,\n",
       " 'eval_steps_per_second': 55.281,\n",
       " 'epoch': 3.0}"
      ]
     },
     "execution_count": 8,
     "metadata": {},
     "output_type": "execute_result"
    }
   ],
   "source": [
    "trainer.evaluate()"
   ]
  },
  {
   "cell_type": "code",
   "execution_count": 9,
   "metadata": {},
   "outputs": [],
   "source": [
    "trainer.save_model()"
   ]
  }
 ],
 "metadata": {
  "kernelspec": {
   "display_name": ".env",
   "language": "python",
   "name": "python3"
  },
  "language_info": {
   "codemirror_mode": {
    "name": "ipython",
    "version": 3
   },
   "file_extension": ".py",
   "mimetype": "text/x-python",
   "name": "python",
   "nbconvert_exporter": "python",
   "pygments_lexer": "ipython3",
   "version": "3.11.6"
  }
 },
 "nbformat": 4,
 "nbformat_minor": 2
}
